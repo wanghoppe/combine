{
  "nbformat": 4,
  "nbformat_minor": 0,
  "metadata": {
    "colab": {
      "name": "Combined.ipynb",
      "version": "0.3.2",
      "provenance": [],
      "collapsed_sections": [],
      "toc_visible": true
    },
    "kernelspec": {
      "name": "python3",
      "display_name": "Python 3"
    },
    "accelerator": "GPU"
  },
  "cells": [
    {
      "metadata": {
        "id": "OYWzor6zsGfL",
        "colab_type": "text"
      },
      "cell_type": "markdown",
      "source": [
        "## install packages"
      ]
    },
    {
      "metadata": {
        "id": "NFl05BOfrXzS",
        "colab_type": "code",
        "colab": {
          "base_uri": "https://localhost:8080/",
          "height": 658
        },
        "outputId": "903d8c0e-e229-4a3d-8204-897b9b57be38"
      },
      "cell_type": "code",
      "source": [
        "!pip install tensorlayer\n",
        "!pip install rawpy\n",
        "!pip install easydict\n",
        "!pip install numba"
      ],
      "execution_count": 1,
      "outputs": [
        {
          "output_type": "stream",
          "text": [
            "Requirement already satisfied: tensorlayer in /usr/local/lib/python3.6/dist-packages (1.11.1)\n",
            "Requirement already satisfied: imageio<2.5,>=2.3 in /usr/local/lib/python3.6/dist-packages (from tensorlayer) (2.4.1)\n",
            "Requirement already satisfied: wrapt<1.11,>=1.10 in /usr/local/lib/python3.6/dist-packages (from tensorlayer) (1.10.11)\n",
            "Requirement already satisfied: progressbar2<3.39,>=3.38 in /usr/local/lib/python3.6/dist-packages (from tensorlayer) (3.38.0)\n",
            "Requirement already satisfied: scipy<1.2,>=1.1 in /usr/local/lib/python3.6/dist-packages (from tensorlayer) (1.1.0)\n",
            "Requirement already satisfied: lxml<4.3,>=4.2 in /usr/local/lib/python3.6/dist-packages (from tensorlayer) (4.2.5)\n",
            "Requirement already satisfied: scikit-learn<0.21,>=0.19 in /usr/local/lib/python3.6/dist-packages (from tensorlayer) (0.19.2)\n",
            "Requirement already satisfied: tqdm<4.29,>=4.23 in /usr/local/lib/python3.6/dist-packages (from tensorlayer) (4.28.1)\n",
            "Requirement already satisfied: requests<2.21,>=2.19 in /usr/local/lib/python3.6/dist-packages (from tensorlayer) (2.20.1)\n",
            "Requirement already satisfied: matplotlib<3.1,>=2.2 in /usr/local/lib/python3.6/dist-packages (from tensorlayer) (3.0.2)\n",
            "Requirement already satisfied: scikit-image<0.15,>=0.14 in /usr/local/lib/python3.6/dist-packages (from tensorlayer) (0.14.1)\n",
            "Requirement already satisfied: numpy<1.16,>=1.14 in /usr/local/lib/python3.6/dist-packages (from tensorlayer) (1.14.6)\n",
            "Requirement already satisfied: pillow in /usr/local/lib/python3.6/dist-packages (from imageio<2.5,>=2.3->tensorlayer) (4.0.0)\n",
            "Requirement already satisfied: six in /usr/local/lib/python3.6/dist-packages (from progressbar2<3.39,>=3.38->tensorlayer) (1.11.0)\n",
            "Requirement already satisfied: python-utils>=2.3.0 in /usr/local/lib/python3.6/dist-packages (from progressbar2<3.39,>=3.38->tensorlayer) (2.3.0)\n",
            "Requirement already satisfied: idna<2.8,>=2.5 in /usr/local/lib/python3.6/dist-packages (from requests<2.21,>=2.19->tensorlayer) (2.6)\n",
            "Requirement already satisfied: chardet<3.1.0,>=3.0.2 in /usr/local/lib/python3.6/dist-packages (from requests<2.21,>=2.19->tensorlayer) (3.0.4)\n",
            "Requirement already satisfied: urllib3<1.25,>=1.21.1 in /usr/local/lib/python3.6/dist-packages (from requests<2.21,>=2.19->tensorlayer) (1.22)\n",
            "Requirement already satisfied: certifi>=2017.4.17 in /usr/local/lib/python3.6/dist-packages (from requests<2.21,>=2.19->tensorlayer) (2018.10.15)\n",
            "Requirement already satisfied: kiwisolver>=1.0.1 in /usr/local/lib/python3.6/dist-packages (from matplotlib<3.1,>=2.2->tensorlayer) (1.0.1)\n",
            "Requirement already satisfied: python-dateutil>=2.1 in /usr/local/lib/python3.6/dist-packages (from matplotlib<3.1,>=2.2->tensorlayer) (2.5.3)\n",
            "Requirement already satisfied: pyparsing!=2.0.4,!=2.1.2,!=2.1.6,>=2.0.1 in /usr/local/lib/python3.6/dist-packages (from matplotlib<3.1,>=2.2->tensorlayer) (2.3.0)\n",
            "Requirement already satisfied: cycler>=0.10 in /usr/local/lib/python3.6/dist-packages (from matplotlib<3.1,>=2.2->tensorlayer) (0.10.0)\n",
            "Requirement already satisfied: cloudpickle>=0.2.1 in /usr/local/lib/python3.6/dist-packages (from scikit-image<0.15,>=0.14->tensorlayer) (0.6.1)\n",
            "Requirement already satisfied: networkx>=1.8 in /usr/local/lib/python3.6/dist-packages (from scikit-image<0.15,>=0.14->tensorlayer) (2.2)\n",
            "Requirement already satisfied: PyWavelets>=0.4.0 in /usr/local/lib/python3.6/dist-packages (from scikit-image<0.15,>=0.14->tensorlayer) (1.0.1)\n",
            "Requirement already satisfied: dask[array]>=0.9.0 in /usr/local/lib/python3.6/dist-packages (from scikit-image<0.15,>=0.14->tensorlayer) (0.20.2)\n",
            "Requirement already satisfied: olefile in /usr/local/lib/python3.6/dist-packages (from pillow->imageio<2.5,>=2.3->tensorlayer) (0.46)\n",
            "Requirement already satisfied: setuptools in /usr/local/lib/python3.6/dist-packages (from kiwisolver>=1.0.1->matplotlib<3.1,>=2.2->tensorlayer) (40.6.2)\n",
            "Requirement already satisfied: decorator>=4.3.0 in /usr/local/lib/python3.6/dist-packages (from networkx>=1.8->scikit-image<0.15,>=0.14->tensorlayer) (4.3.0)\n",
            "Requirement already satisfied: toolz>=0.7.3; extra == \"array\" in /usr/local/lib/python3.6/dist-packages (from dask[array]>=0.9.0->scikit-image<0.15,>=0.14->tensorlayer) (0.9.0)\n",
            "Requirement already satisfied: rawpy in /usr/local/lib/python3.6/dist-packages (0.13.0)\n",
            "Requirement already satisfied: numpy in /usr/local/lib/python3.6/dist-packages (from rawpy) (1.14.6)\n",
            "Requirement already satisfied: easydict in /usr/local/lib/python3.6/dist-packages (1.9)\n",
            "Requirement already satisfied: numba in /usr/local/lib/python3.6/dist-packages (0.40.1)\n",
            "Requirement already satisfied: numpy in /usr/local/lib/python3.6/dist-packages (from numba) (1.14.6)\n",
            "Requirement already satisfied: llvmlite>=0.25.0dev0 in /usr/local/lib/python3.6/dist-packages (from numba) (0.25.0)\n"
          ],
          "name": "stdout"
        }
      ]
    },
    {
      "metadata": {
        "id": "KpRtTJduA_b8",
        "colab_type": "text"
      },
      "cell_type": "markdown",
      "source": [
        "## Get utils from github"
      ]
    },
    {
      "metadata": {
        "id": "7uB8n2UkvTE_",
        "colab_type": "code",
        "outputId": "00c2535d-51bc-4987-b817-78dfb8562e7e",
        "colab": {
          "base_uri": "https://localhost:8080/",
          "height": 33
        }
      },
      "cell_type": "code",
      "source": [
        "! git clone https://github.com/wanghoppe/combined_py.git"
      ],
      "execution_count": 2,
      "outputs": [
        {
          "output_type": "stream",
          "text": [
            "fatal: destination path 'combined_py' already exists and is not an empty directory.\n"
          ],
          "name": "stdout"
        }
      ]
    },
    {
      "metadata": {
        "id": "DfbtnxjcCcWx",
        "colab_type": "text"
      },
      "cell_type": "markdown",
      "source": [
        "## Mount Google drive\n",
        "- if restart session, run from here"
      ]
    },
    {
      "metadata": {
        "id": "PLc25FX8sF_-",
        "colab_type": "code",
        "outputId": "f95a4778-42d4-4a16-ea09-45843cf3fc08",
        "colab": {
          "base_uri": "https://localhost:8080/",
          "height": 53
        }
      },
      "cell_type": "code",
      "source": [
        "from google.colab import drive\n",
        "# from google.colab import files\n",
        "drive.mount('/content/gdrive')"
      ],
      "execution_count": 3,
      "outputs": [
        {
          "output_type": "stream",
          "text": [
            "Drive already mounted at /content/gdrive; to attempt to forcibly remount, call drive.mount(\"/content/gdrive\", force_remount=True).\n"
          ],
          "name": "stdout"
        }
      ]
    },
    {
      "metadata": {
        "id": "6DNFTN8IsdSX",
        "colab_type": "code",
        "colab": {}
      },
      "cell_type": "code",
      "source": [
        "work_dir = '/content/gdrive/My Drive/combine' # set working dir"
      ],
      "execution_count": 0,
      "outputs": []
    },
    {
      "metadata": {
        "id": "fY8SOKpSrTCm",
        "colab_type": "code",
        "colab": {}
      },
      "cell_type": "code",
      "source": [
        "from __future__ import division\n",
        "import os, scipy.io, time, pickle, random\n",
        "import tensorflow as tf\n",
        "# import tensorflow.contrib.slim as slim\n",
        "import numpy as np\n",
        "import rawpy\n",
        "# import glob\n",
        "import tensorlayer as tl\n",
        "from tensorlayer.prepro import imresize\n",
        "\n",
        "\n",
        "from combined_py.dark_utils import *\n",
        "\n",
        "# import os, time, pickle, random, time\n",
        "from datetime import datetime\n",
        "from time import localtime, strftime\n",
        "import logging, scipy\n",
        "from combined_py.model2 import SRGAN_g, SRGAN_d, Vgg19_simple_api\n",
        "from combined_py.utils2 import *\n",
        "from combined_py.config2 import config, log_config\n",
        "\n",
        "from PIL import Image\n",
        "from numba import cuda\n"
      ],
      "execution_count": 0,
      "outputs": []
    },
    {
      "metadata": {
        "id": "O2dudHWIrTCq",
        "colab_type": "code",
        "colab": {}
      },
      "cell_type": "code",
      "source": [
        "RATIO = 20\n",
        "INPUT_IMG = work_dir + '/test_data/sony_a7s_ii_38.arw'"
      ],
      "execution_count": 0,
      "outputs": []
    },
    {
      "metadata": {
        "id": "oNQlWY4szAZq",
        "colab_type": "code",
        "outputId": "c4c82291-c8a8-4dda-afe5-e2f272606ac0",
        "colab": {
          "base_uri": "https://localhost:8080/",
          "height": 33
        }
      },
      "cell_type": "code",
      "source": [
        "INPUT_IMG"
      ],
      "execution_count": 7,
      "outputs": [
        {
          "output_type": "execute_result",
          "data": {
            "text/plain": [
              "'/content/gdrive/My Drive/combine/test_data/sony_a7s_ii_38.arw'"
            ]
          },
          "metadata": {
            "tags": []
          },
          "execution_count": 7
        }
      ]
    },
    {
      "metadata": {
        "id": "gKDmxOR1rTCs",
        "colab_type": "text"
      },
      "cell_type": "markdown",
      "source": [
        "## Load the first checkpoint"
      ]
    },
    {
      "metadata": {
        "id": "JrgK9kbgrTCu",
        "colab_type": "code",
        "outputId": "9f45a4d1-6d24-48dd-fbac-3851aec9e8c2",
        "colab": {
          "base_uri": "https://localhost:8080/",
          "height": 50
        }
      },
      "cell_type": "code",
      "source": [
        "config = tf.ConfigProto()\n",
        "config.gpu_options.allow_growth=True\n",
        "sess1 = tf.Session(config=config)\n",
        "\n",
        "in_image = tf.placeholder(tf.float32, [None, None, None, 4])\n",
        "out_image = network(in_image)\n",
        "saver = tf.train.Saver()\n",
        "sess1.run(tf.global_variables_initializer())\n",
        "ckpt = tf.train.get_checkpoint_state(work_dir + '/checkpoint1/Sony')\n",
        "if ckpt:\n",
        "    print('loaded ' + ckpt.model_checkpoint_path)\n",
        "    saver.restore(sess1, ckpt.model_checkpoint_path)"
      ],
      "execution_count": 8,
      "outputs": [
        {
          "output_type": "stream",
          "text": [
            "loaded /content/gdrive/My Drive/combine/checkpoint1/Sony/model.ckpt\n",
            "INFO:tensorflow:Restoring parameters from /content/gdrive/My Drive/combine/checkpoint1/Sony/model.ckpt\n"
          ],
          "name": "stdout"
        }
      ]
    },
    {
      "metadata": {
        "id": "xyqKuelZrTC4",
        "colab_type": "text"
      },
      "cell_type": "markdown",
      "source": [
        "## Run the first model"
      ]
    },
    {
      "metadata": {
        "id": "5uUVgSWrrTC5",
        "colab_type": "code",
        "colab": {}
      },
      "cell_type": "code",
      "source": [
        "raw = rawpy.imread(INPUT_IMG)\n",
        "input_full = np.expand_dims(pack_raw(raw), axis=0) * RATIO\n",
        "input_full = np.minimum(input_full, 1.0)\n",
        "output = sess1.run(out_image, feed_dict={in_image: input_full})\n",
        "output = np.minimum(np.maximum(output, 0), 1)\n",
        "\n",
        "output = output[0, :, :, :]\n",
        "output = output * 255"
      ],
      "execution_count": 0,
      "outputs": []
    },
    {
      "metadata": {
        "id": "DqSLRPA-_n3x",
        "colab_type": "code",
        "colab": {}
      },
      "cell_type": "code",
      "source": [
        "# tf.reset_default_graph()\n",
        "# sess1.close()"
      ],
      "execution_count": 0,
      "outputs": []
    },
    {
      "metadata": {
        "id": "o9yySRz29ChX",
        "colab_type": "code",
        "colab": {}
      },
      "cell_type": "code",
      "source": [
        "# sess1.close()\n",
        "# cuda.select_device(0)\n",
        "# cuda.close()"
      ],
      "execution_count": 0,
      "outputs": []
    },
    {
      "metadata": {
        "id": "rtI6sF8KrTC0",
        "colab_type": "text"
      },
      "cell_type": "markdown",
      "source": [
        "## Load the second checkpoint"
      ]
    },
    {
      "metadata": {
        "collapsed": true,
        "id": "QH-uFOTdrTC1",
        "colab_type": "code",
        "outputId": "9f546689-1d00-4e83-ae1e-616d611d940d",
        "colab": {
          "base_uri": "https://localhost:8080/",
          "height": 238
        }
      },
      "cell_type": "code",
      "source": [
        "t_image = tf.placeholder('float32', [1, None, None, 3], name='input_image')\n",
        "net_g = SRGAN_g(t_image, is_train=False, reuse=False)\n",
        "\n",
        "sess2 = tf.Session(config=tf.ConfigProto(allow_soft_placement=True, log_device_placement=False))\n",
        "tl.layers.initialize_global_variables(sess2)\n"
      ],
      "execution_count": 0,
      "outputs": [
        {
          "output_type": "stream",
          "text": [
            "[TL] InputLayer  SRGAN_g/in: (1, ?, ?, 3)\n",
            "[TL] Conv2d SRGAN_g/n64s1/c: n_filter: 64 filter_size: (3, 3) strides: (1, 1) pad: SAME act: relu\n",
            "[TL] Conv2d SRGAN_g/n64s1/c1/0: n_filter: 64 filter_size: (3, 3) strides: (1, 1) pad: SAME act: No Activation\n",
            "[TL] BatchNormLayer SRGAN_g/n64s1/b1/0: decay: 0.900000 epsilon: 0.000010 act: relu is_train: False\n",
            "[TL] Conv2d SRGAN_g/n64s1/c2/0: n_filter: 64 filter_size: (3, 3) strides: (1, 1) pad: SAME act: No Activation\n",
            "[TL] BatchNormLayer SRGAN_g/n64s1/b2/0: decay: 0.900000 epsilon: 0.000010 act: No Activation is_train: False\n",
            "[TL] ElementwiseLayer SRGAN_g/b_residual_add/0: size: (1, ?, ?, 64) fn: add\n",
            "[TL] Conv2d SRGAN_g/n64s1/c1/1: n_filter: 64 filter_size: (3, 3) strides: (1, 1) pad: SAME act: No Activation\n",
            "[TL] BatchNormLayer SRGAN_g/n64s1/b1/1: decay: 0.900000 epsilon: 0.000010 act: relu is_train: False\n",
            "[TL] Conv2d SRGAN_g/n64s1/c2/1: n_filter: 64 filter_size: (3, 3) strides: (1, 1) pad: SAME act: No Activation\n",
            "[TL] BatchNormLayer SRGAN_g/n64s1/b2/1: decay: 0.900000 epsilon: 0.000010 act: No Activation is_train: False\n",
            "[TL] ElementwiseLayer SRGAN_g/b_residual_add/1: size: (1, ?, ?, 64) fn: add\n"
          ],
          "name": "stdout"
        }
      ]
    },
    {
      "metadata": {
        "id": "kJVEgpmr0Oy8",
        "colab_type": "code",
        "colab": {}
      },
      "cell_type": "code",
      "source": [
        "tl.files.load_and_assign_npz(sess=sess2, name= work＿dir + '/checkpoint2' + '/g_srgan.npz', network=net_g)"
      ],
      "execution_count": 0,
      "outputs": []
    },
    {
      "metadata": {
        "id": "4fhqI9raDx_X",
        "colab_type": "text"
      },
      "cell_type": "markdown",
      "source": [
        "## Check GPU usage"
      ]
    },
    {
      "metadata": {
        "id": "QCm1Uu7M7wYV",
        "colab_type": "code",
        "colab": {}
      },
      "cell_type": "code",
      "source": [
        "!nvidia-smi"
      ],
      "execution_count": 0,
      "outputs": []
    },
    {
      "metadata": {
        "id": "Lrqu8G43rTDA",
        "colab_type": "text"
      },
      "cell_type": "markdown",
      "source": [
        "## Run the second model\n",
        "\n",
        "(first resize the image to 1/4 of the original)"
      ]
    },
    {
      "metadata": {
        "id": "IMf-E7kxrTDB",
        "colab_type": "code",
        "colab": {}
      },
      "cell_type": "code",
      "source": [
        "output1 = imresize(output, (int(output.shape[0]/8), int(output.shape[1]/8)))\n",
        "output1 = (output1 / 127.5) - 1\n",
        "output2 = sess2.run(net_g.outputs, {t_image: [output]})"
      ],
      "execution_count": 0,
      "outputs": []
    },
    {
      "metadata": {
        "id": "h4eGAMcCrTDE",
        "colab_type": "text"
      },
      "cell_type": "markdown",
      "source": [
        "## save the output"
      ]
    },
    {
      "metadata": {
        "id": "InPhKPVFrTDG",
        "colab_type": "code",
        "colab": {}
      },
      "cell_type": "code",
      "source": [
        "tl.vis.save_image(output2[0], work_dir + '/output' + '/valid_gen444.png')"
      ],
      "execution_count": 0,
      "outputs": []
    }
  ]
}